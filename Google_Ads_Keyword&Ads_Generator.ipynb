{
  "nbformat": 4,
  "nbformat_minor": 0,
  "metadata": {
    "colab": {
      "name": "Google_Ads_Keyword&Ads_Generator.ipynb",
      "version": "0.3.2",
      "provenance": []
    },
    "kernelspec": {
      "name": "python2",
      "display_name": "Python 2"
    }
  },
  "cells": [
    {
      "cell_type": "code",
      "metadata": {
        "id": "XwQ76V6SYk9F",
        "colab_type": "code",
        "colab": {}
      },
      "source": [
        "import re\n",
        "import pandas as pd\n",
        "import io"
      ],
      "execution_count": 0,
      "outputs": []
    },
    {
      "cell_type": "code",
      "metadata": {
        "id": "D3yod3RF5Uya",
        "colab_type": "code",
        "colab": {}
      },
      "source": [
        "sheet = \"https://docs.google.com/spreadsheets/d/e/2PACX-1vSiGE8A6hl5-DBIg5M8k25xVsjzSMBFnDZ-ebLXDePSiuM_SZNMkYgWxx7Y4t0sbG8Qb4yqCrFm8yz2/pub?output=csv\""
      ],
      "execution_count": 0,
      "outputs": []
    },
    {
      "cell_type": "code",
      "metadata": {
        "id": "piovMfAa2pZY",
        "colab_type": "code",
        "colab": {}
      },
      "source": [
        "gen = pd.read_csv(sheet)"
      ],
      "execution_count": 0,
      "outputs": []
    },
    {
      "cell_type": "code",
      "metadata": {
        "id": "yv05a06C5ZiW",
        "colab_type": "code",
        "outputId": "6d17512a-2f06-45c7-811d-5cabd1f2a88a",
        "colab": {
          "base_uri": "https://localhost:8080/",
          "height": 235
        }
      },
      "source": [
        "gen"
      ],
      "execution_count": 262,
      "outputs": [
        {
          "output_type": "execute_result",
          "data": {
            "text/html": [
              "<div>\n",
              "<style scoped>\n",
              "    .dataframe tbody tr th:only-of-type {\n",
              "        vertical-align: middle;\n",
              "    }\n",
              "\n",
              "    .dataframe tbody tr th {\n",
              "        vertical-align: top;\n",
              "    }\n",
              "\n",
              "    .dataframe thead th {\n",
              "        text-align: right;\n",
              "    }\n",
              "</style>\n",
              "<table border=\"1\" class=\"dataframe\">\n",
              "  <thead>\n",
              "    <tr style=\"text-align: right;\">\n",
              "      <th></th>\n",
              "      <th>Keyword</th>\n",
              "      <th>Prefix</th>\n",
              "      <th>Suffix</th>\n",
              "      <th>Budget</th>\n",
              "      <th>Location</th>\n",
              "      <th>Ad1-Headline 1</th>\n",
              "      <th>Ad1-Headline 2</th>\n",
              "      <th>Ad1-Description</th>\n",
              "      <th>Ad1-Landing Page</th>\n",
              "      <th>Ad1-Path 1</th>\n",
              "      <th>Ad1-Path 2</th>\n",
              "      <th>Ad2-Headline 1</th>\n",
              "      <th>Ad2-Headline 2</th>\n",
              "      <th>Ad2-Description</th>\n",
              "      <th>Ad2-Landing Page</th>\n",
              "      <th>Ad2-Path 1</th>\n",
              "      <th>Ad2-Path 2</th>\n",
              "    </tr>\n",
              "  </thead>\n",
              "  <tbody>\n",
              "    <tr>\n",
              "      <th>0</th>\n",
              "      <td>iphone 7</td>\n",
              "      <td>buy</td>\n",
              "      <td>online</td>\n",
              "      <td>10</td>\n",
              "      <td>2076</td>\n",
              "      <td>xxx -  Brand!</td>\n",
              "      <td>Get it now and Save 10%</td>\n",
              "      <td>Enjoy free shipping, 2 hours delivery, get it ...</td>\n",
              "      <td>example.com/iphone-7</td>\n",
              "      <td>iphone7</td>\n",
              "      <td>online</td>\n",
              "      <td>Great offers on Example Now</td>\n",
              "      <td>xxx</td>\n",
              "      <td>Great discounts on big collection of items, Sh...</td>\n",
              "      <td>example.com/iphone-7</td>\n",
              "      <td>iphone7</td>\n",
              "      <td>online</td>\n",
              "    </tr>\n",
              "    <tr>\n",
              "      <th>1</th>\n",
              "      <td>cloud</td>\n",
              "      <td>buy</td>\n",
              "      <td>dubai</td>\n",
              "      <td>20</td>\n",
              "      <td>2124</td>\n",
              "      <td>xxx -  Brand!</td>\n",
              "      <td>Get it now and Save 10%</td>\n",
              "      <td>Enjoy free shipping, 2 hours delivery, get it ...</td>\n",
              "      <td>example.com/iphone-8</td>\n",
              "      <td>cloud</td>\n",
              "      <td>online</td>\n",
              "      <td>Great offers on Example Now</td>\n",
              "      <td>xxx</td>\n",
              "      <td>Great discounts on big collection of items, Sh...</td>\n",
              "      <td>example.com/iphone-8</td>\n",
              "      <td>cloud</td>\n",
              "      <td>online</td>\n",
              "    </tr>\n",
              "    <tr>\n",
              "      <th>2</th>\n",
              "      <td>phones</td>\n",
              "      <td>cheap</td>\n",
              "      <td>uae</td>\n",
              "      <td>30</td>\n",
              "      <td>2818</td>\n",
              "      <td>xxx -  Brand!</td>\n",
              "      <td>Get it now and Save 10%</td>\n",
              "      <td>Enjoy free shipping, 2 hours delivery, get it ...</td>\n",
              "      <td>example.com/iphone-9</td>\n",
              "      <td>phones</td>\n",
              "      <td>online</td>\n",
              "      <td>Great offers on Example Now</td>\n",
              "      <td>xxx</td>\n",
              "      <td>Great discounts on big collection of items, Sh...</td>\n",
              "      <td>example.com/iphone-9</td>\n",
              "      <td>phones</td>\n",
              "      <td>online</td>\n",
              "    </tr>\n",
              "    <tr>\n",
              "      <th>3</th>\n",
              "      <td>htc</td>\n",
              "      <td>NaN</td>\n",
              "      <td>NaN</td>\n",
              "      <td>40</td>\n",
              "      <td>2818</td>\n",
              "      <td>xxx -  Brand!</td>\n",
              "      <td>Get it now and Save 10%</td>\n",
              "      <td>Enjoy free shipping, 2 hours delivery, get it ...</td>\n",
              "      <td>example.com/iphone-10</td>\n",
              "      <td>htc</td>\n",
              "      <td>online</td>\n",
              "      <td>Great offers on Example Now</td>\n",
              "      <td>xxx</td>\n",
              "      <td>Great discounts on big collection of items, Sh...</td>\n",
              "      <td>example.com/iphone-10</td>\n",
              "      <td>htc</td>\n",
              "      <td>online</td>\n",
              "    </tr>\n",
              "    <tr>\n",
              "      <th>4</th>\n",
              "      <td>luxury</td>\n",
              "      <td>NaN</td>\n",
              "      <td>NaN</td>\n",
              "      <td>50</td>\n",
              "      <td>2818</td>\n",
              "      <td>xxx -  Brand!</td>\n",
              "      <td>Get it now and Save 10%</td>\n",
              "      <td>Enjoy free shipping, 2 hours delivery, get it ...</td>\n",
              "      <td>example.com/iphone-11</td>\n",
              "      <td>luxury</td>\n",
              "      <td>online</td>\n",
              "      <td>Great offers on Example Now</td>\n",
              "      <td>xxx</td>\n",
              "      <td>Great discounts on big collection of items, Sh...</td>\n",
              "      <td>example.com/iphone-11</td>\n",
              "      <td>luxury</td>\n",
              "      <td>online</td>\n",
              "    </tr>\n",
              "    <tr>\n",
              "      <th>5</th>\n",
              "      <td>cars</td>\n",
              "      <td>NaN</td>\n",
              "      <td>NaN</td>\n",
              "      <td>60</td>\n",
              "      <td>2818</td>\n",
              "      <td>xxx -  Brand!</td>\n",
              "      <td>Get it now and Save 10%</td>\n",
              "      <td>Enjoy free shipping, 2 hours delivery, get it ...</td>\n",
              "      <td>example.com/iphone-12</td>\n",
              "      <td>cars</td>\n",
              "      <td>online</td>\n",
              "      <td>Great offers on Example Now</td>\n",
              "      <td>xxx</td>\n",
              "      <td>Great discounts on big collection of items, Sh...</td>\n",
              "      <td>example.com/iphone-12</td>\n",
              "      <td>cars</td>\n",
              "      <td>online</td>\n",
              "    </tr>\n",
              "  </tbody>\n",
              "</table>\n",
              "</div>"
            ],
            "text/plain": [
              "    Keyword Prefix  Suffix  ...       Ad2-Landing Page  Ad2-Path 1 Ad2-Path 2\n",
              "0  iphone 7    buy  online  ...   example.com/iphone-7     iphone7     online\n",
              "1     cloud    buy   dubai  ...   example.com/iphone-8       cloud     online\n",
              "2    phones  cheap     uae  ...   example.com/iphone-9      phones     online\n",
              "3       htc    NaN     NaN  ...  example.com/iphone-10         htc     online\n",
              "4    luxury    NaN     NaN  ...  example.com/iphone-11      luxury     online\n",
              "5      cars    NaN     NaN  ...  example.com/iphone-12        cars     online\n",
              "\n",
              "[6 rows x 17 columns]"
            ]
          },
          "metadata": {
            "tags": []
          },
          "execution_count": 262
        }
      ]
    },
    {
      "cell_type": "code",
      "metadata": {
        "id": "zok5lgxnvc9w",
        "colab_type": "code",
        "colab": {}
      },
      "source": [
        "prefix = gen['Prefix'].dropna()\n",
        "suffix = gen['Suffix'].dropna()\n",
        "keyword = gen['Keyword'].dropna()\n",
        "budget = gen['Budget'].dropna()\n"
      ],
      "execution_count": 0,
      "outputs": []
    },
    {
      "cell_type": "code",
      "metadata": {
        "id": "0BWDNUeyrXG6",
        "colab_type": "code",
        "colab": {}
      },
      "source": [
        "results_pre = []\n",
        "results_suf = []\n",
        "results = []\n",
        "for p in prefix:\n",
        "  for k in keyword:\n",
        "    results_pre.append(p + \" \" + k)\n",
        "\n",
        "for s in suffix:\n",
        "  for k in keyword:\n",
        "    results_suf.append(k + \" \" + s)\n",
        "\n",
        "for r in results_pre:\n",
        "    for x in suffix:\n",
        "      results.append( r + \" \" + x)\n",
        "\n",
        "final_results = results_pre + results_suf + results\n"
      ],
      "execution_count": 0,
      "outputs": []
    },
    {
      "cell_type": "code",
      "metadata": {
        "id": "0dOqk8HE3nnk",
        "colab_type": "code",
        "colab": {}
      },
      "source": [
        "broad = []\n",
        "for key in final_results:\n",
        "  broad.append(\"+\" + key.replace(\" \",\" +\"))"
      ],
      "execution_count": 0,
      "outputs": []
    },
    {
      "cell_type": "code",
      "metadata": {
        "id": "iykKBbQ85FWa",
        "colab_type": "code",
        "colab": {}
      },
      "source": [
        "df_exact = pd.DataFrame({ 'keyword' : final_results, \n",
        "                   } )\n",
        "df_exact['match_type'] = 'Exact'\n"
      ],
      "execution_count": 0,
      "outputs": []
    },
    {
      "cell_type": "code",
      "metadata": {
        "id": "f7JK1msW7m8Y",
        "colab_type": "code",
        "colab": {}
      },
      "source": [
        "df_broad = pd.DataFrame({ 'keyword' : broad, \n",
        "                   } )\n",
        "df_broad['match_type'] = 'Broad'"
      ],
      "execution_count": 0,
      "outputs": []
    },
    {
      "cell_type": "code",
      "metadata": {
        "id": "pKoeFcMH5Two",
        "colab_type": "code",
        "colab": {}
      },
      "source": [
        "df = df_exact.append(df_broad)\n",
        "df = df.reset_index(drop= True)"
      ],
      "execution_count": 0,
      "outputs": []
    },
    {
      "cell_type": "code",
      "metadata": {
        "id": "tlM198z7R3YX",
        "colab_type": "code",
        "colab": {}
      },
      "source": [
        "res = []\n",
        "for i in df['keyword'].str.replace(\"+\",\"\"):\n",
        "  for key in keyword:\n",
        "    if key in i:\n",
        "      res.append((\"Go-SN-EN-Product:\" + key.title()).replace(\" \",\"-\"))"
      ],
      "execution_count": 0,
      "outputs": []
    },
    {
      "cell_type": "code",
      "metadata": {
        "id": "PhN8SJyiQ_Ku",
        "colab_type": "code",
        "colab": {}
      },
      "source": [
        "budgets = []\n",
        "for i in df['keyword'].str.replace(\"+\",\"\"):\n",
        "  for a, b in zip(gen['Keyword'], gen['Budget']):\n",
        "    if a in i:\n",
        "      budgets.append(b)\n",
        "  "
      ],
      "execution_count": 0,
      "outputs": []
    },
    {
      "cell_type": "code",
      "metadata": {
        "id": "vYlaHodltckw",
        "colab_type": "code",
        "colab": {}
      },
      "source": [
        "locations = []\n",
        "for i in df['keyword'].str.replace(\"+\",\"\"):\n",
        "  for a, b in zip(gen['Keyword'], gen['Location']):\n",
        "    if a in i:\n",
        "      locations.append(b)"
      ],
      "execution_count": 0,
      "outputs": []
    },
    {
      "cell_type": "code",
      "metadata": {
        "id": "EJzAa9BmtkDU",
        "colab_type": "code",
        "colab": {}
      },
      "source": [
        "df['location'] = locations"
      ],
      "execution_count": 0,
      "outputs": []
    },
    {
      "cell_type": "code",
      "metadata": {
        "id": "Z94oRRbnRQJa",
        "colab_type": "code",
        "colab": {}
      },
      "source": [
        "df['budget'] = budgets"
      ],
      "execution_count": 0,
      "outputs": []
    },
    {
      "cell_type": "code",
      "metadata": {
        "id": "wczGlWMfTQKk",
        "colab_type": "code",
        "colab": {}
      },
      "source": [
        "df['campaign'] = res"
      ],
      "execution_count": 0,
      "outputs": []
    },
    {
      "cell_type": "code",
      "metadata": {
        "id": "BRydOF2VXV7Q",
        "colab_type": "code",
        "colab": {}
      },
      "source": [
        "df['adgroup'] =  df['keyword'].str.replace(\"+\",\"\").str.title() +  \"-{\" + df['match_type'] +\"}\"\n"
      ],
      "execution_count": 0,
      "outputs": []
    },
    {
      "cell_type": "code",
      "metadata": {
        "id": "RYWbxkCbU-Rj",
        "colab_type": "code",
        "outputId": "c854d09c-854e-4a48-e780-8be8c87451ca",
        "colab": {
          "base_uri": "https://localhost:8080/",
          "height": 204
        }
      },
      "source": [
        "df = df[['campaign', 'adgroup','keyword', 'match_type', 'budget','location']]\n",
        "df.head()"
      ],
      "execution_count": 276,
      "outputs": [
        {
          "output_type": "execute_result",
          "data": {
            "text/html": [
              "<div>\n",
              "<style scoped>\n",
              "    .dataframe tbody tr th:only-of-type {\n",
              "        vertical-align: middle;\n",
              "    }\n",
              "\n",
              "    .dataframe tbody tr th {\n",
              "        vertical-align: top;\n",
              "    }\n",
              "\n",
              "    .dataframe thead th {\n",
              "        text-align: right;\n",
              "    }\n",
              "</style>\n",
              "<table border=\"1\" class=\"dataframe\">\n",
              "  <thead>\n",
              "    <tr style=\"text-align: right;\">\n",
              "      <th></th>\n",
              "      <th>campaign</th>\n",
              "      <th>adgroup</th>\n",
              "      <th>keyword</th>\n",
              "      <th>match_type</th>\n",
              "      <th>budget</th>\n",
              "      <th>location</th>\n",
              "    </tr>\n",
              "  </thead>\n",
              "  <tbody>\n",
              "    <tr>\n",
              "      <th>0</th>\n",
              "      <td>Go-SN-EN-Product:Iphone-7</td>\n",
              "      <td>Buy Iphone 7-{Exact}</td>\n",
              "      <td>buy iphone 7</td>\n",
              "      <td>Exact</td>\n",
              "      <td>10</td>\n",
              "      <td>2076</td>\n",
              "    </tr>\n",
              "    <tr>\n",
              "      <th>1</th>\n",
              "      <td>Go-SN-EN-Product:Cloud</td>\n",
              "      <td>Buy Cloud-{Exact}</td>\n",
              "      <td>buy cloud</td>\n",
              "      <td>Exact</td>\n",
              "      <td>20</td>\n",
              "      <td>2124</td>\n",
              "    </tr>\n",
              "    <tr>\n",
              "      <th>2</th>\n",
              "      <td>Go-SN-EN-Product:Phones</td>\n",
              "      <td>Buy Phones-{Exact}</td>\n",
              "      <td>buy phones</td>\n",
              "      <td>Exact</td>\n",
              "      <td>30</td>\n",
              "      <td>2818</td>\n",
              "    </tr>\n",
              "    <tr>\n",
              "      <th>3</th>\n",
              "      <td>Go-SN-EN-Product:Htc</td>\n",
              "      <td>Buy Htc-{Exact}</td>\n",
              "      <td>buy htc</td>\n",
              "      <td>Exact</td>\n",
              "      <td>40</td>\n",
              "      <td>2818</td>\n",
              "    </tr>\n",
              "    <tr>\n",
              "      <th>4</th>\n",
              "      <td>Go-SN-EN-Product:Luxury</td>\n",
              "      <td>Buy Luxury-{Exact}</td>\n",
              "      <td>buy luxury</td>\n",
              "      <td>Exact</td>\n",
              "      <td>50</td>\n",
              "      <td>2818</td>\n",
              "    </tr>\n",
              "  </tbody>\n",
              "</table>\n",
              "</div>"
            ],
            "text/plain": [
              "                    campaign               adgroup  ... budget location\n",
              "0  Go-SN-EN-Product:Iphone-7  Buy Iphone 7-{Exact}  ...     10     2076\n",
              "1     Go-SN-EN-Product:Cloud     Buy Cloud-{Exact}  ...     20     2124\n",
              "2    Go-SN-EN-Product:Phones    Buy Phones-{Exact}  ...     30     2818\n",
              "3       Go-SN-EN-Product:Htc       Buy Htc-{Exact}  ...     40     2818\n",
              "4    Go-SN-EN-Product:Luxury    Buy Luxury-{Exact}  ...     50     2818\n",
              "\n",
              "[5 rows x 6 columns]"
            ]
          },
          "metadata": {
            "tags": []
          },
          "execution_count": 276
        }
      ]
    },
    {
      "cell_type": "code",
      "metadata": {
        "id": "lyC0Zw4GDPBI",
        "colab_type": "code",
        "colab": {}
      },
      "source": [
        "ad1 = df[['campaign', 'adgroup']].copy()"
      ],
      "execution_count": 0,
      "outputs": []
    },
    {
      "cell_type": "code",
      "metadata": {
        "id": "Ph-ldtvtEDNA",
        "colab_type": "code",
        "colab": {}
      },
      "source": [
        "ad1_headline1 = []\n",
        "ad1_headline2 = []\n",
        "ad1_description = []\n",
        "ad1_landingpage = []\n",
        "ad1_path1 = []\n",
        "ad1_path2 = []\n",
        "for i in ad1['adgroup'].str.lower():\n",
        "  for  key, h1, h2, desc, url, p1, p2 in  zip(keyword, gen['Ad1-Headline 1'], gen['Ad1-Headline 2'], gen['Ad1-Description'], gen['Ad1-Landing Page'], gen['Ad1-Path 1'], gen['Ad1-Path 2'] ):\n",
        "      if key in i:\n",
        "        ad1_headline1.append( h1.replace(\"xxx\", i[:-8].title() ))\n",
        "        ad1_headline2.append(h2)\n",
        "        ad1_description.append(desc)\n",
        "        ad1_landingpage.append(url)\n",
        "        ad1_path1.append(p1)\n",
        "        ad1_path2.append(p2)\n",
        "        \n",
        "        \n"
      ],
      "execution_count": 0,
      "outputs": []
    },
    {
      "cell_type": "code",
      "metadata": {
        "id": "eA5OJLxkGKR5",
        "colab_type": "code",
        "colab": {}
      },
      "source": [
        "ad1['Headline 1'] = ad1_headline1\n",
        "ad1['Headline 2'] = ad1_headline2\n",
        "ad1['description'] = ad1_description\n",
        "ad1['landingpage'] = ad1_landingpage\n",
        "ad1['paht 1'] = ad1_path1\n",
        "ad1['path 2'] = ad1_path2"
      ],
      "execution_count": 0,
      "outputs": []
    },
    {
      "cell_type": "code",
      "metadata": {
        "id": "svX_g4j-Hur_",
        "colab_type": "code",
        "colab": {
          "base_uri": "https://localhost:8080/",
          "height": 204
        },
        "outputId": "f7997e17-8150-4920-c5ff-9e8774e140b9"
      },
      "source": [
        "ad1.head()"
      ],
      "execution_count": 280,
      "outputs": [
        {
          "output_type": "execute_result",
          "data": {
            "text/html": [
              "<div>\n",
              "<style scoped>\n",
              "    .dataframe tbody tr th:only-of-type {\n",
              "        vertical-align: middle;\n",
              "    }\n",
              "\n",
              "    .dataframe tbody tr th {\n",
              "        vertical-align: top;\n",
              "    }\n",
              "\n",
              "    .dataframe thead th {\n",
              "        text-align: right;\n",
              "    }\n",
              "</style>\n",
              "<table border=\"1\" class=\"dataframe\">\n",
              "  <thead>\n",
              "    <tr style=\"text-align: right;\">\n",
              "      <th></th>\n",
              "      <th>campaign</th>\n",
              "      <th>adgroup</th>\n",
              "      <th>Headline 1</th>\n",
              "      <th>Headline 2</th>\n",
              "      <th>description</th>\n",
              "      <th>landingpage</th>\n",
              "      <th>paht 1</th>\n",
              "      <th>path 2</th>\n",
              "    </tr>\n",
              "  </thead>\n",
              "  <tbody>\n",
              "    <tr>\n",
              "      <th>0</th>\n",
              "      <td>Go-SN-EN-Product:Iphone-7</td>\n",
              "      <td>Buy Iphone 7-{Exact}</td>\n",
              "      <td>Buy Iphone 7 -  Brand!</td>\n",
              "      <td>Get it now and Save 10%</td>\n",
              "      <td>Enjoy free shipping, 2 hours delivery, get it ...</td>\n",
              "      <td>example.com/iphone-7</td>\n",
              "      <td>iphone7</td>\n",
              "      <td>online</td>\n",
              "    </tr>\n",
              "    <tr>\n",
              "      <th>1</th>\n",
              "      <td>Go-SN-EN-Product:Cloud</td>\n",
              "      <td>Buy Cloud-{Exact}</td>\n",
              "      <td>Buy Cloud -  Brand!</td>\n",
              "      <td>Get it now and Save 10%</td>\n",
              "      <td>Enjoy free shipping, 2 hours delivery, get it ...</td>\n",
              "      <td>example.com/iphone-8</td>\n",
              "      <td>cloud</td>\n",
              "      <td>online</td>\n",
              "    </tr>\n",
              "    <tr>\n",
              "      <th>2</th>\n",
              "      <td>Go-SN-EN-Product:Phones</td>\n",
              "      <td>Buy Phones-{Exact}</td>\n",
              "      <td>Buy Phones -  Brand!</td>\n",
              "      <td>Get it now and Save 10%</td>\n",
              "      <td>Enjoy free shipping, 2 hours delivery, get it ...</td>\n",
              "      <td>example.com/iphone-9</td>\n",
              "      <td>phones</td>\n",
              "      <td>online</td>\n",
              "    </tr>\n",
              "    <tr>\n",
              "      <th>3</th>\n",
              "      <td>Go-SN-EN-Product:Htc</td>\n",
              "      <td>Buy Htc-{Exact}</td>\n",
              "      <td>Buy Htc -  Brand!</td>\n",
              "      <td>Get it now and Save 10%</td>\n",
              "      <td>Enjoy free shipping, 2 hours delivery, get it ...</td>\n",
              "      <td>example.com/iphone-10</td>\n",
              "      <td>htc</td>\n",
              "      <td>online</td>\n",
              "    </tr>\n",
              "    <tr>\n",
              "      <th>4</th>\n",
              "      <td>Go-SN-EN-Product:Luxury</td>\n",
              "      <td>Buy Luxury-{Exact}</td>\n",
              "      <td>Buy Luxury -  Brand!</td>\n",
              "      <td>Get it now and Save 10%</td>\n",
              "      <td>Enjoy free shipping, 2 hours delivery, get it ...</td>\n",
              "      <td>example.com/iphone-11</td>\n",
              "      <td>luxury</td>\n",
              "      <td>online</td>\n",
              "    </tr>\n",
              "  </tbody>\n",
              "</table>\n",
              "</div>"
            ],
            "text/plain": [
              "                    campaign               adgroup  ...   paht 1  path 2\n",
              "0  Go-SN-EN-Product:Iphone-7  Buy Iphone 7-{Exact}  ...  iphone7  online\n",
              "1     Go-SN-EN-Product:Cloud     Buy Cloud-{Exact}  ...    cloud  online\n",
              "2    Go-SN-EN-Product:Phones    Buy Phones-{Exact}  ...   phones  online\n",
              "3       Go-SN-EN-Product:Htc       Buy Htc-{Exact}  ...      htc  online\n",
              "4    Go-SN-EN-Product:Luxury    Buy Luxury-{Exact}  ...   luxury  online\n",
              "\n",
              "[5 rows x 8 columns]"
            ]
          },
          "metadata": {
            "tags": []
          },
          "execution_count": 280
        }
      ]
    },
    {
      "cell_type": "code",
      "metadata": {
        "id": "0j4oRvVhKIeU",
        "colab_type": "code",
        "colab": {}
      },
      "source": [
        "ad2 = df[['campaign', 'adgroup']].copy()\n"
      ],
      "execution_count": 0,
      "outputs": []
    },
    {
      "cell_type": "code",
      "metadata": {
        "id": "yWOdDZavSHfT",
        "colab_type": "code",
        "colab": {
          "base_uri": "https://localhost:8080/",
          "height": 204
        },
        "outputId": "c3ef2e8e-11e1-4526-b655-64126f6eae54"
      },
      "source": [
        "ad2.head()"
      ],
      "execution_count": 288,
      "outputs": [
        {
          "output_type": "execute_result",
          "data": {
            "text/html": [
              "<div>\n",
              "<style scoped>\n",
              "    .dataframe tbody tr th:only-of-type {\n",
              "        vertical-align: middle;\n",
              "    }\n",
              "\n",
              "    .dataframe tbody tr th {\n",
              "        vertical-align: top;\n",
              "    }\n",
              "\n",
              "    .dataframe thead th {\n",
              "        text-align: right;\n",
              "    }\n",
              "</style>\n",
              "<table border=\"1\" class=\"dataframe\">\n",
              "  <thead>\n",
              "    <tr style=\"text-align: right;\">\n",
              "      <th></th>\n",
              "      <th>campaign</th>\n",
              "      <th>adgroup</th>\n",
              "      <th>Headline 1</th>\n",
              "      <th>Headline 2</th>\n",
              "      <th>description</th>\n",
              "      <th>landingpage</th>\n",
              "      <th>paht 1</th>\n",
              "      <th>path 2</th>\n",
              "    </tr>\n",
              "  </thead>\n",
              "  <tbody>\n",
              "    <tr>\n",
              "      <th>0</th>\n",
              "      <td>Go-SN-EN-Product:Iphone-7</td>\n",
              "      <td>Buy Iphone 7-{Exact}</td>\n",
              "      <td>Great offers on Example Now</td>\n",
              "      <td>Buy Iphone 7</td>\n",
              "      <td>Great discounts on big collection of items, Sh...</td>\n",
              "      <td>example.com/iphone-7</td>\n",
              "      <td>iphone7</td>\n",
              "      <td>online</td>\n",
              "    </tr>\n",
              "    <tr>\n",
              "      <th>1</th>\n",
              "      <td>Go-SN-EN-Product:Cloud</td>\n",
              "      <td>Buy Cloud-{Exact}</td>\n",
              "      <td>Great offers on Example Now</td>\n",
              "      <td>Buy Cloud</td>\n",
              "      <td>Great discounts on big collection of items, Sh...</td>\n",
              "      <td>example.com/iphone-8</td>\n",
              "      <td>cloud</td>\n",
              "      <td>online</td>\n",
              "    </tr>\n",
              "    <tr>\n",
              "      <th>2</th>\n",
              "      <td>Go-SN-EN-Product:Phones</td>\n",
              "      <td>Buy Phones-{Exact}</td>\n",
              "      <td>Great offers on Example Now</td>\n",
              "      <td>Buy Phones</td>\n",
              "      <td>Great discounts on big collection of items, Sh...</td>\n",
              "      <td>example.com/iphone-9</td>\n",
              "      <td>phones</td>\n",
              "      <td>online</td>\n",
              "    </tr>\n",
              "    <tr>\n",
              "      <th>3</th>\n",
              "      <td>Go-SN-EN-Product:Htc</td>\n",
              "      <td>Buy Htc-{Exact}</td>\n",
              "      <td>Great offers on Example Now</td>\n",
              "      <td>Buy Htc</td>\n",
              "      <td>Great discounts on big collection of items, Sh...</td>\n",
              "      <td>example.com/iphone-10</td>\n",
              "      <td>htc</td>\n",
              "      <td>online</td>\n",
              "    </tr>\n",
              "    <tr>\n",
              "      <th>4</th>\n",
              "      <td>Go-SN-EN-Product:Luxury</td>\n",
              "      <td>Buy Luxury-{Exact}</td>\n",
              "      <td>Great offers on Example Now</td>\n",
              "      <td>Buy Luxury</td>\n",
              "      <td>Great discounts on big collection of items, Sh...</td>\n",
              "      <td>example.com/iphone-11</td>\n",
              "      <td>luxury</td>\n",
              "      <td>online</td>\n",
              "    </tr>\n",
              "  </tbody>\n",
              "</table>\n",
              "</div>"
            ],
            "text/plain": [
              "                    campaign               adgroup  ...   paht 1  path 2\n",
              "0  Go-SN-EN-Product:Iphone-7  Buy Iphone 7-{Exact}  ...  iphone7  online\n",
              "1     Go-SN-EN-Product:Cloud     Buy Cloud-{Exact}  ...    cloud  online\n",
              "2    Go-SN-EN-Product:Phones    Buy Phones-{Exact}  ...   phones  online\n",
              "3       Go-SN-EN-Product:Htc       Buy Htc-{Exact}  ...      htc  online\n",
              "4    Go-SN-EN-Product:Luxury    Buy Luxury-{Exact}  ...   luxury  online\n",
              "\n",
              "[5 rows x 8 columns]"
            ]
          },
          "metadata": {
            "tags": []
          },
          "execution_count": 288
        }
      ]
    },
    {
      "cell_type": "code",
      "metadata": {
        "id": "EDCCiGQiM__t",
        "colab_type": "code",
        "colab": {}
      },
      "source": [
        "ad2_headline1 = []\n",
        "ad2_headline2 = []\n",
        "ad2_description = []\n",
        "ad2_landingpage = []\n",
        "ad2_path1 = []\n",
        "ad2_path2 = []\n",
        "for i in ad1['adgroup'].str.lower():\n",
        "  for  key, h1, h2, desc, url, p1, p2 in  zip(keyword, gen['Ad2-Headline 1'], gen['Ad2-Headline 2'], gen['Ad2-Description'], gen['Ad2-Landing Page'], gen['Ad2-Path 1'], gen['Ad2-Path 2'] ):\n",
        "      if key in i:\n",
        "        ad2_headline1.append(h1)\n",
        "        ad2_headline2.append( h2.replace(\"xxx\", i[:-8].title() ))\n",
        "        ad2_description.append(desc)\n",
        "        ad2_landingpage.append(url)\n",
        "        ad2_path1.append(p1)\n",
        "        ad2_path2.append(p2)\n",
        "        "
      ],
      "execution_count": 0,
      "outputs": []
    },
    {
      "cell_type": "code",
      "metadata": {
        "id": "HQnsvcuWNdWs",
        "colab_type": "code",
        "colab": {}
      },
      "source": [
        "ad2['Headline 1'] = ad2_headline1\n",
        "ad2['Headline 2'] = ad2_headline2\n",
        "ad2['description'] = ad2_description\n",
        "ad2['landingpage'] = ad2_landingpage\n",
        "ad2['paht 1'] = ad2_path1\n",
        "ad2['path 2'] = ad2_path2"
      ],
      "execution_count": 0,
      "outputs": []
    },
    {
      "cell_type": "code",
      "metadata": {
        "id": "nNMF0Ww9ORCV",
        "colab_type": "code",
        "colab": {
          "base_uri": "https://localhost:8080/",
          "height": 204
        },
        "outputId": "3bcaadf0-ced4-4778-a74e-b875b8df834e"
      },
      "source": [
        "ad2.head()"
      ],
      "execution_count": 285,
      "outputs": [
        {
          "output_type": "execute_result",
          "data": {
            "text/html": [
              "<div>\n",
              "<style scoped>\n",
              "    .dataframe tbody tr th:only-of-type {\n",
              "        vertical-align: middle;\n",
              "    }\n",
              "\n",
              "    .dataframe tbody tr th {\n",
              "        vertical-align: top;\n",
              "    }\n",
              "\n",
              "    .dataframe thead th {\n",
              "        text-align: right;\n",
              "    }\n",
              "</style>\n",
              "<table border=\"1\" class=\"dataframe\">\n",
              "  <thead>\n",
              "    <tr style=\"text-align: right;\">\n",
              "      <th></th>\n",
              "      <th>campaign</th>\n",
              "      <th>adgroup</th>\n",
              "      <th>Headline 1</th>\n",
              "      <th>Headline 2</th>\n",
              "      <th>description</th>\n",
              "      <th>landingpage</th>\n",
              "      <th>paht 1</th>\n",
              "      <th>path 2</th>\n",
              "    </tr>\n",
              "  </thead>\n",
              "  <tbody>\n",
              "    <tr>\n",
              "      <th>0</th>\n",
              "      <td>Go-SN-EN-Product:Iphone-7</td>\n",
              "      <td>Buy Iphone 7-{Exact}</td>\n",
              "      <td>Great offers on Example Now</td>\n",
              "      <td>Buy Iphone 7</td>\n",
              "      <td>Great discounts on big collection of items, Sh...</td>\n",
              "      <td>example.com/iphone-7</td>\n",
              "      <td>iphone7</td>\n",
              "      <td>online</td>\n",
              "    </tr>\n",
              "    <tr>\n",
              "      <th>1</th>\n",
              "      <td>Go-SN-EN-Product:Cloud</td>\n",
              "      <td>Buy Cloud-{Exact}</td>\n",
              "      <td>Great offers on Example Now</td>\n",
              "      <td>Buy Cloud</td>\n",
              "      <td>Great discounts on big collection of items, Sh...</td>\n",
              "      <td>example.com/iphone-8</td>\n",
              "      <td>cloud</td>\n",
              "      <td>online</td>\n",
              "    </tr>\n",
              "    <tr>\n",
              "      <th>2</th>\n",
              "      <td>Go-SN-EN-Product:Phones</td>\n",
              "      <td>Buy Phones-{Exact}</td>\n",
              "      <td>Great offers on Example Now</td>\n",
              "      <td>Buy Phones</td>\n",
              "      <td>Great discounts on big collection of items, Sh...</td>\n",
              "      <td>example.com/iphone-9</td>\n",
              "      <td>phones</td>\n",
              "      <td>online</td>\n",
              "    </tr>\n",
              "    <tr>\n",
              "      <th>3</th>\n",
              "      <td>Go-SN-EN-Product:Htc</td>\n",
              "      <td>Buy Htc-{Exact}</td>\n",
              "      <td>Great offers on Example Now</td>\n",
              "      <td>Buy Htc</td>\n",
              "      <td>Great discounts on big collection of items, Sh...</td>\n",
              "      <td>example.com/iphone-10</td>\n",
              "      <td>htc</td>\n",
              "      <td>online</td>\n",
              "    </tr>\n",
              "    <tr>\n",
              "      <th>4</th>\n",
              "      <td>Go-SN-EN-Product:Luxury</td>\n",
              "      <td>Buy Luxury-{Exact}</td>\n",
              "      <td>Great offers on Example Now</td>\n",
              "      <td>Buy Luxury</td>\n",
              "      <td>Great discounts on big collection of items, Sh...</td>\n",
              "      <td>example.com/iphone-11</td>\n",
              "      <td>luxury</td>\n",
              "      <td>online</td>\n",
              "    </tr>\n",
              "  </tbody>\n",
              "</table>\n",
              "</div>"
            ],
            "text/plain": [
              "                    campaign               adgroup  ...   paht 1  path 2\n",
              "0  Go-SN-EN-Product:Iphone-7  Buy Iphone 7-{Exact}  ...  iphone7  online\n",
              "1     Go-SN-EN-Product:Cloud     Buy Cloud-{Exact}  ...    cloud  online\n",
              "2    Go-SN-EN-Product:Phones    Buy Phones-{Exact}  ...   phones  online\n",
              "3       Go-SN-EN-Product:Htc       Buy Htc-{Exact}  ...      htc  online\n",
              "4    Go-SN-EN-Product:Luxury    Buy Luxury-{Exact}  ...   luxury  online\n",
              "\n",
              "[5 rows x 8 columns]"
            ]
          },
          "metadata": {
            "tags": []
          },
          "execution_count": 285
        }
      ]
    },
    {
      "cell_type": "code",
      "metadata": {
        "id": "0S8K-ZInOWNT",
        "colab_type": "code",
        "colab": {}
      },
      "source": [
        "df_ads = ad1.append(ad2)"
      ],
      "execution_count": 0,
      "outputs": []
    },
    {
      "cell_type": "code",
      "metadata": {
        "id": "KErtjd8FOvba",
        "colab_type": "code",
        "colab": {}
      },
      "source": [
        "df_keywords = df[['campaign', 'adgroup','keyword', 'match_type']]\n",
        "df_ads.to_csv('df_ads.csv', index = False)\n",
        "df_keywords.to_csv('df_keywords.csv', index = False) \n",
        "from google.colab import files\n",
        "files.download('df_keywords.csv')\n",
        "files.download('df_ads.csv')"
      ],
      "execution_count": 0,
      "outputs": []
    }
  ]
}